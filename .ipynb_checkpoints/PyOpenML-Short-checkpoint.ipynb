{
 "cells": [
  {
   "cell_type": "markdown",
   "metadata": {
    "slideshow": {
     "slide_type": "slide"
    }
   },
   "source": [
    "# OpenML in Python \n",
    "Joaquin Vanschoren @joavanschoren"
   ]
  },
  {
   "cell_type": "code",
   "execution_count": 1,
   "metadata": {
    "collapsed": false,
    "slideshow": {
     "slide_type": "skip"
    }
   },
   "outputs": [],
   "source": [
    "# Run this to authenticate. Not needed if you have stored your API key locally.\n",
    "# If you are running this locally (not launched from in the cloud), replace 'MYKEY' with your API key.\n",
    "# If you don't know your API key\n",
    "# - log into openml.org, open your account page (click your avatar on the top right)\n",
    "# - in the left menu, click 'Account Settings', then 'API authentication'.\n",
    "import os\n",
    "import openml\n",
    "openml.config.apikey = os.environ.get('OPENMLKEY','MYKEY') "
   ]
  },
  {
   "cell_type": "code",
   "execution_count": 1,
   "metadata": {
    "collapsed": false,
    "slideshow": {
     "slide_type": "subslide"
    }
   },
   "outputs": [],
   "source": [
    "# We need to import these first\n",
    "from openml import datasets, tasks, runs\n",
    "from sklearn import preprocessing, ensemble\n",
    "from pprint import pprint\n",
    "import numpy as np\n",
    "import pandas as pd"
   ]
  },
  {
   "cell_type": "markdown",
   "metadata": {
    "slideshow": {
     "slide_type": "slide"
    }
   },
   "source": [
    "# Data sets"
   ]
  },
  {
   "cell_type": "markdown",
   "metadata": {
    "slideshow": {
     "slide_type": "subslide"
    }
   },
   "source": [
    "## Listing OpenML data sets"
   ]
  },
  {
   "cell_type": "code",
   "execution_count": 2,
   "metadata": {
    "collapsed": false
   },
   "outputs": [
    {
     "name": "stdout",
     "output_type": "stream",
     "text": [
      "First 10 of 19492 datasets...\n",
      "   did             name NumberOfInstances NumberOfFeatures\n",
      "1    1           anneal               898               39\n",
      "2    2           anneal               898               39\n",
      "3    3         kr-vs-kp              3196               37\n",
      "4    4            labor                57               17\n",
      "5    5       arrhythmia               452              280\n",
      "6    6           letter             20000               17\n",
      "7    7        audiology               226               70\n",
      "8    8  liver-disorders               345                7\n",
      "9    9            autos               205               26\n",
      "10  10            lymph               148               19\n"
     ]
    }
   ],
   "source": [
    "# List all data sets\n",
    "datalist = datasets.list_datasets()\n",
    "\n",
    "data = pd.DataFrame(datalist).transpose()\n",
    "print(\"First 10 of %s datasets...\" % len(datalist))\n",
    "print(data[:10][['did','name','NumberOfInstances','NumberOfFeatures']])"
   ]
  },
  {
   "cell_type": "code",
   "execution_count": 4,
   "metadata": {
    "collapsed": false
   },
   "outputs": [],
   "source": [
    "data.set_index('did', inplace=True) "
   ]
  },
  {
   "cell_type": "markdown",
   "metadata": {
    "slideshow": {
     "slide_type": "subslide"
    }
   },
   "source": [
    "Download a specific dataset. This is done based on the dataset ID (called 'did' in the table above)."
   ]
  },
  {
   "cell_type": "code",
   "execution_count": 4,
   "metadata": {
    "collapsed": false
   },
   "outputs": [
    {
     "name": "stdout",
     "output_type": "stream",
     "text": [
      "This is dataset 'eeg-eye-state', the target feature is called 'Class'\n",
      "URL: http://www.openml.org/data/download/1587924/phplE7q6h\n",
      "**Author**: Oliver Roesler, it12148'@'lehre.dhbw-stuttgart.de  \n",
      "**Source**: [UCI](https://archive.ics.uci.edu/ml/datasets/EEG+Eye+State), Baden-Wuerttemberg, Cooperative State University (DHBW), Stuttgart, Germany  \n",
      "**Please cite**:   \n",
      "\n",
      "All data is from one continuous EEG measurement with the Emotiv EEG Neuroheadset. The duration of the measurement was 117 seconds. The eye state was detected via a camera during the EEG measurement and added later manually to the file after analysing the video fr\n"
     ]
    }
   ],
   "source": [
    "dataset = datasets.get_dataset(1471)\n",
    "\n",
    "print(\"This is dataset '%s', the target feature is called '%s'\" % (dataset.name, dataset.default_target_attribute))\n",
    "print(\"URL: %s\" % dataset.url)\n",
    "print(dataset.description[:500])"
   ]
  },
  {
   "cell_type": "markdown",
   "metadata": {
    "slideshow": {
     "slide_type": "subslide"
    }
   },
   "source": [
    "Get the actual data"
   ]
  },
  {
   "cell_type": "code",
   "execution_count": 5,
   "metadata": {
    "collapsed": false
   },
   "outputs": [
    {
     "name": "stdout",
     "output_type": "stream",
     "text": [
      "            V1           V2           V3           V4           V5  \\\n",
      "0  4329.229980  4009.229980  4289.229980  4148.209961  4350.259766   \n",
      "1  4324.620117  4004.620117  4293.850098  4148.720215  4342.049805   \n",
      "2  4327.689941  4006.669922  4295.379883  4156.410156  4336.919922   \n",
      "3  4328.720215  4011.790039  4296.410156  4155.899902  4343.589844   \n",
      "4  4326.149902  4011.790039  4292.310059  4151.279785  4347.689941   \n",
      "5  4321.029785  4004.620117  4284.100098  4153.330078  4345.640137   \n",
      "6  4319.490234  4001.030029  4280.509766  4151.790039  4343.589844   \n",
      "7  4325.640137  4006.669922  4278.459961  4143.080078  4344.100098   \n",
      "8  4326.149902  4010.770020  4276.410156  4139.490234  4345.129883   \n",
      "9  4326.149902  4011.280029  4276.919922  4142.049805  4344.100098   \n",
      "\n",
      "            V6           V7           V8           V9          V10  \\\n",
      "0  4586.149902  4096.919922  4641.029785  4222.049805  4238.459961   \n",
      "1  4586.669922  4097.439941  4638.970215  4210.770020  4226.669922   \n",
      "2  4583.589844  4096.919922  4630.259766  4207.689941  4222.049805   \n",
      "3  4582.560059  4097.439941  4630.770020  4217.439941  4235.379883   \n",
      "4  4586.669922  4095.899902  4627.689941  4210.770020  4244.100098   \n",
      "5  4587.180176  4093.330078  4616.919922  4202.560059  4232.819824   \n",
      "6  4584.620117  4089.739990  4615.899902  4212.310059  4226.669922   \n",
      "7  4583.080078  4087.179932  4614.870117  4205.640137  4230.259766   \n",
      "8  4584.100098  4091.280029  4608.209961  4187.689941  4229.740234   \n",
      "9  4582.560059  4092.820068  4608.720215  4194.359863  4228.720215   \n",
      "\n",
      "           V11          V12          V13          V14  class  \n",
      "0  4211.279785  4280.509766  4635.899902  4393.850098      0  \n",
      "1  4207.689941  4279.490234  4632.819824  4384.100098      0  \n",
      "2  4206.669922  4282.049805  4628.720215  4389.229980      0  \n",
      "3  4210.770020  4287.689941  4632.310059  4396.410156      0  \n",
      "4  4212.819824  4288.209961  4632.819824  4398.459961      0  \n",
      "5  4209.740234  4281.029785  4628.209961  4389.740234      0  \n",
      "6  4201.029785  4269.740234  4625.129883  4378.459961      0  \n",
      "7  4195.899902  4266.669922  4622.049805  4380.509766      0  \n",
      "8  4202.049805  4273.850098  4627.180176  4389.740234      0  \n",
      "9  4212.819824  4277.950195  4637.439941  4393.330078      0  \n"
     ]
    }
   ],
   "source": [
    "X, y, attribute_names = dataset.get_data(target=dataset.default_target_attribute, return_attribute_names=True)\n",
    "eeg = pd.DataFrame(X, columns=attribute_names)\n",
    "eeg['class'] = y\n",
    "print(eeg[:10])"
   ]
  },
  {
   "cell_type": "markdown",
   "metadata": {
    "slideshow": {
     "slide_type": "subslide"
    }
   },
   "source": [
    "Train a scikit-learn model on the data"
   ]
  },
  {
   "cell_type": "code",
   "execution_count": 6,
   "metadata": {
    "collapsed": false
   },
   "outputs": [
    {
     "data": {
      "text/plain": [
       "RandomForestClassifier(bootstrap=True, class_weight=None, criterion='gini',\n",
       "            max_depth=None, max_features='auto', max_leaf_nodes=None,\n",
       "            min_impurity_split=1e-07, min_samples_leaf=1,\n",
       "            min_samples_split=2, min_weight_fraction_leaf=0.0,\n",
       "            n_estimators=10, n_jobs=1, oob_score=False, random_state=None,\n",
       "            verbose=0, warm_start=False)"
      ]
     },
     "execution_count": 6,
     "metadata": {},
     "output_type": "execute_result"
    }
   ],
   "source": [
    "from sklearn import preprocessing, ensemble\n",
    "\n",
    "dataset = datasets.get_dataset(61)\n",
    "X, y = dataset.get_data(target=dataset.default_target_attribute)\n",
    "clf = ensemble.RandomForestClassifier()\n",
    "clf.fit(X, y)"
   ]
  },
  {
   "cell_type": "markdown",
   "metadata": {
    "slideshow": {
     "slide_type": "subslide"
    }
   },
   "source": [
    "You can also ask which features are categorical to do your own encoding"
   ]
  },
  {
   "cell_type": "code",
   "execution_count": 7,
   "metadata": {
    "collapsed": false
   },
   "outputs": [
    {
     "data": {
      "text/plain": [
       "RandomForestClassifier(bootstrap=True, class_weight=None, criterion='gini',\n",
       "            max_depth=None, max_features='auto', max_leaf_nodes=None,\n",
       "            min_impurity_split=1e-07, min_samples_leaf=1,\n",
       "            min_samples_split=2, min_weight_fraction_leaf=0.0,\n",
       "            n_estimators=10, n_jobs=1, oob_score=False, random_state=None,\n",
       "            verbose=0, warm_start=False)"
      ]
     },
     "execution_count": 7,
     "metadata": {},
     "output_type": "execute_result"
    }
   ],
   "source": [
    "X, y, categorical = dataset.get_data(target=dataset.default_target_attribute,return_categorical_indicator=True)\n",
    "enc = preprocessing.OneHotEncoder(categorical_features=categorical)\n",
    "X = enc.fit_transform(X)\n",
    "clf.fit(X, y)"
   ]
  },
  {
   "cell_type": "markdown",
   "metadata": {
    "slideshow": {
     "slide_type": "slide"
    }
   },
   "source": [
    "# Tasks"
   ]
  },
  {
   "cell_type": "markdown",
   "metadata": {},
   "source": [
    "To run benchmarks consistently (also across studies and tools), OpenML offers Tasks, which include specific train-test splits and other information."
   ]
  },
  {
   "cell_type": "markdown",
   "metadata": {
    "slideshow": {
     "slide_type": "subslide"
    }
   },
   "source": [
    "## List ALL the tasks"
   ]
  },
  {
   "cell_type": "code",
   "execution_count": 8,
   "metadata": {
    "collapsed": false
   },
   "outputs": [
    {
     "name": "stdout",
     "output_type": "stream",
     "text": [
      "First 5 of 10 tasks:\n",
      "  tid did        name                  task_type     estimation_procedure\n",
      "1   1   1      anneal  Supervised Classification  10-fold Crossvalidation\n",
      "2   2   2      anneal  Supervised Classification  10-fold Crossvalidation\n",
      "3   3   3    kr-vs-kp  Supervised Classification  10-fold Crossvalidation\n",
      "4   4   4       labor  Supervised Classification  10-fold Crossvalidation\n",
      "5   5   5  arrhythmia  Supervised Classification  10-fold Crossvalidation\n"
     ]
    }
   ],
   "source": [
    "task_list = tasks.list_tasks(size=10)\n",
    "\n",
    "mytasks = pd.DataFrame(task_list).transpose()\n",
    "print(\"First 5 of %s tasks:\" % len(mytasks))\n",
    "#print(mytasks.columns)\n",
    "print(mytasks[:5][['tid','did','name','task_type','estimation_procedure']])"
   ]
  },
  {
   "cell_type": "markdown",
   "metadata": {
    "slideshow": {
     "slide_type": "subslide"
    }
   },
   "source": [
    "## Download tasks"
   ]
  },
  {
   "cell_type": "code",
   "execution_count": 9,
   "metadata": {
    "collapsed": false
   },
   "outputs": [
    {
     "name": "stdout",
     "output_type": "stream",
     "text": [
      "{'class_labels': ['normal', 'metastases', 'malign_lymph', 'fibrosis'],\n",
      " 'cost_matrix': None,\n",
      " 'dataset_id': 10,\n",
      " 'estimation_parameters': {'number_folds': '10',\n",
      "                           'number_repeats': '1',\n",
      "                           'percentage': '',\n",
      "                           'stratified_sampling': 'true'},\n",
      " 'estimation_procedure': {'data_splits_url': 'http://www.openml.org/api_splits/get/10/Task_10_splits.arff',\n",
      "                          'parameters': {'number_folds': '10',\n",
      "                                         'number_repeats': '1',\n",
      "                                         'percentage': '',\n",
      "                                         'stratified_sampling': 'true'},\n",
      "                          'type': 'crossvalidation'},\n",
      " 'evaluation_measure': 'predictive_accuracy',\n",
      " 'target_name': 'class',\n",
      " 'task_id': 10,\n",
      " 'task_type': 'Supervised Classification'}\n"
     ]
    }
   ],
   "source": [
    "from pprint import pprint\n",
    "task = tasks.get_task(10)\n",
    "pprint(vars(task))"
   ]
  },
  {
   "cell_type": "markdown",
   "metadata": {
    "slideshow": {
     "slide_type": "slide"
    }
   },
   "source": [
    "# Runs"
   ]
  },
  {
   "cell_type": "markdown",
   "metadata": {
    "slideshow": {
     "slide_type": "-"
    }
   },
   "source": [
    "Run a scikit-learn classifier on the task (using the right splits)"
   ]
  },
  {
   "cell_type": "code",
   "execution_count": 10,
   "metadata": {
    "collapsed": false,
    "slideshow": {
     "slide_type": "subslide"
    }
   },
   "outputs": [
    {
     "name": "stdout",
     "output_type": "stream",
     "text": [
      "RandomForest has run on the task.\n"
     ]
    }
   ],
   "source": [
    "from openml.runs import run_task\n",
    "\n",
    "clf = ensemble.RandomForestClassifier()\n",
    "run = run_task(task, clf)\n",
    "print(\"RandomForest has run on the task.\")"
   ]
  },
  {
   "cell_type": "markdown",
   "metadata": {
    "slideshow": {
     "slide_type": "subslide"
    }
   },
   "source": [
    "Upload the run to the OpenML server"
   ]
  },
  {
   "cell_type": "code",
   "execution_count": 16,
   "metadata": {
    "collapsed": false
   },
   "outputs": [],
   "source": [
    "%%capture\n",
    "clf = ensemble.RandomForestClassifier()\n",
    "run = run_task(task, clf)\n",
    "openmlrun = run.publish()"
   ]
  },
  {
   "cell_type": "code",
   "execution_count": 17,
   "metadata": {
    "collapsed": false
   },
   "outputs": [
    {
     "name": "stdout",
     "output_type": "stream",
     "text": [
      "Check your run on http://www.openml.org/r/ 1843299\n"
     ]
    }
   ],
   "source": [
    "# To check it online:\n",
    "print(\"Check your run on http://www.openml.org/r/\" + str(openmlrun.run_id))"
   ]
  },
  {
   "cell_type": "markdown",
   "metadata": {
    "slideshow": {
     "slide_type": "slide"
    }
   },
   "source": [
    "## TLDR; Train any model on any OpenML dataset and upload to OpenML"
   ]
  },
  {
   "cell_type": "code",
   "execution_count": 25,
   "metadata": {
    "collapsed": false,
    "scrolled": true,
    "slideshow": {
     "slide_type": "subslide"
    }
   },
   "outputs": [],
   "source": [
    "%%capture\n",
    "from sklearn import ensemble\n",
    "from openml import tasks,runs\n",
    "task = tasks.get_task(14951)\n",
    "clf = ensemble.RandomForestClassifier()\n",
    "run = runs.run_task(task, clf)\n",
    "myrun = run.publish()"
   ]
  },
  {
   "cell_type": "code",
   "execution_count": 26,
   "metadata": {
    "collapsed": false
   },
   "outputs": [
    {
     "name": "stdout",
     "output_type": "stream",
     "text": [
      "Check your run on http://www.openml.org/r/1843299\n"
     ]
    }
   ],
   "source": [
    "# Now check it online:\n",
    "print(\"Check your run on http://www.openml.org/r/\" + str(openmlrun.run_id))"
   ]
  }
 ],
 "metadata": {
  "celltoolbar": "Slideshow",
  "colabVersion": "0.1",
  "kernelspec": {
   "display_name": "Python 3",
   "language": "python",
   "name": "python3"
  },
  "language_info": {
   "codemirror_mode": {
    "name": "ipython",
    "version": 3
   },
   "file_extension": ".py",
   "mimetype": "text/x-python",
   "name": "python",
   "nbconvert_exporter": "python",
   "pygments_lexer": "ipython3",
   "version": "3.5.2"
  }
 },
 "nbformat": 4,
 "nbformat_minor": 0
}
