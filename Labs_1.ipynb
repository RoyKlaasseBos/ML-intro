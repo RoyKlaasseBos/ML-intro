{
 "cells": [
  {
   "cell_type": "markdown",
   "metadata": {
    "slideshow": {
     "slide_type": "slide"
    }
   },
   "source": [
    "# Machine Learning Intro\n",
    "## Labs day 1\n",
    "\n",
    "Please complete the exercises assignments in this notebook."
   ]
  },
  {
   "cell_type": "code",
   "execution_count": 1,
   "metadata": {
    "collapsed": false,
    "slideshow": {
     "slide_type": "skip"
    }
   },
   "outputs": [
    {
     "data": {
      "text/html": [
       "<style>html, body{overflow-y: visible !important} .CodeMirror{min-width:105% !important;} .rise-enabled .CodeMirror, .rise-enabled .output_subarea{font-size:140%; line-height:1.2; overflow: visible;} .output_subarea pre{width:110%}</style>"
      ],
      "text/plain": [
       "<IPython.core.display.HTML object>"
      ]
     },
     "execution_count": 1,
     "metadata": {},
     "output_type": "execute_result"
    }
   ],
   "source": [
    "%matplotlib inline\n",
    "from preamble import *\n",
    "plt.rcParams['savefig.dpi'] = 100 # This controls the size of your figures\n",
    "# Comment out and restart notebook if you only want the last output of each cell.\n",
    "# InteractiveShell.ast_node_interactivity = \"all\" \n",
    "HTML('''<style>html, body{overflow-y: visible !important} .CodeMirror{min-width:105% !important;} .rise-enabled .CodeMirror, .rise-enabled .output_subarea{font-size:140%; line-height:1.2; overflow: visible;} .output_subarea pre{width:110%}</style>''') # For slides"
   ]
  },
  {
   "cell_type": "markdown",
   "metadata": {
    "slideshow": {
     "slide_type": "slide"
    }
   },
   "source": [
    "## Assignment 1: Handwritten digit recognition\n",
    "The [MNIST dataset](https://www.openml.org/d/554) contains 70,000 images of handwritten digits (0-9) represented by 28 by 28 pixel values. We can easily download it from OpenML and visualize one of the examples:"
   ]
  },
  {
   "cell_type": "code",
   "execution_count": 2,
   "metadata": {
    "collapsed": true
   },
   "outputs": [],
   "source": [
    "# This is a temporary read-only OpenML key. Replace with your own key later. \n",
    "oml.config.apikey = '11e82c8d91c5abece86f424369c71590'"
   ]
  },
  {
   "cell_type": "code",
   "execution_count": 3,
   "metadata": {
    "collapsed": false
   },
   "outputs": [
    {
     "name": "stdout",
     "output_type": "stream",
     "text": [
      "Class label: 5\n"
     ]
    },
    {
     "data": {
      "application/pdf": "[encoded data removed]",
      "image/png": "[encoded data removed]",
      "text/plain": [
       "<matplotlib.figure.Figure at 0x110b1d0b8>"
      ]
     },
     "metadata": {},
     "output_type": "display_data"
    }
   ],
   "source": [
    "mnist_data = oml.datasets.get_dataset(554) # Download MNIST data\n",
    "# Get the predictors X and the labels y\n",
    "X, y = mnist_data.get_data(target=mnist_data.default_target_attribute); \n",
    "# Take the first example, reshape to a 28x28 image and plot\n",
    "plt.imshow(X[0].reshape(28, 28), cmap=plt.cm.gray_r) \n",
    "print(\"Class label:\",y[0]) # Print the correct class label"
   ]
  },
  {
   "cell_type": "markdown",
   "metadata": {
    "slideshow": {
     "slide_type": "subslide"
    }
   },
   "source": [
    "### Part 1\n",
    "- Evaluate a k-Nearest Neighbor classifier with its default settings.\n",
    "    - Use the first 6,000 examples as the training set and the next 1,000 as the test set\n",
    "    - What is the predictive accuracy?\n",
    "    - Find a few misclassifications, and plot them together with the true labels (as above). Are these images really hard to classify?"
   ]
  },
  {
   "cell_type": "markdown",
   "metadata": {
    "slideshow": {
     "slide_type": "subslide"
    }
   },
   "source": [
    "### Part 2\n",
    "- Optimize the value for the number of neighbors $k$ (keep $k$ < 50) on a stratified subsample (e.g. 10%) of the data\n",
    "    - Use 10-fold crossvalidation and plot $k$ against the misclassification rate. Which value of $k$ should you pick?\n",
    "    - Do the same but with 100 bootstrapping repeats. Are the results different? Explain."
   ]
  },
  {
   "cell_type": "markdown",
   "metadata": {
    "slideshow": {
     "slide_type": "subslide"
    }
   },
   "source": [
    "### Part 3\n",
    "- Compare kNN against the linear classification models that we have covered in the course (logistic regression and linear SVMs).\n",
    "    - First use the default hyperparameter settings.\n",
    "    - Next, optimize for the degree of regularization ($C$) and choice of penalty (L1/L2). Again, plot the accuracy while increasing the degree of regularization for different penalties. Interpret the results. \n",
    "    - Report the optimal performance. Can you get better results than kNN?"
   ]
  },
  {
   "cell_type": "markdown",
   "metadata": {
    "slideshow": {
     "slide_type": "skip"
    }
   },
   "source": [
    "Report all results clearly and interpret the results. \n",
    "\n",
    "Hint: if necessary, ou can speed up experiments by taking a smaller sample of the data  \n",
    "Hint: you can easily take a 10% stratified subsample in scikit-learn like this, and then continue with X_sample and y_sample. You can also use this subsample in the 3rd subquestion if it takes too long to run in on the whole dataset.\n",
    "```X_sample, _, y_sample, _ = train_test_split(X, y, train_size=0.1, stratify=y)```  \n",
    "Hint: the $C$ parameter is typically varied on a log scale between $2^{-15}$ and $2^{15}$. You can also use something like [0.0001, 0.001, 0.01, 0.1, 1, 10, 100, 1000, 10000]. The important thing is that you check that the optimal value lies within the range that you checked."
   ]
  },
  {
   "cell_type": "markdown",
   "metadata": {
    "slideshow": {
     "slide_type": "slide"
    }
   },
   "source": [
    "## Assignment 2: A regression benchmark\n",
    "Consider the liver-disorder dataset (http://www.openml.org/d/8). The goal is to predict how much alcohol someone consumed based on blood test values.\n",
    "\n",
    "- Take a selection of the algorithms that we covered in class that can do regression.\n",
    "- Based on what you learned in the previous exercises, make educated guesses about good hyperparameter values and set up a grid or random search.\n",
    "- Evaluate all models with 10-fold cross-validation and root mean squared error (RMSE). Report all results. Which model yields the best results?\n",
    "\n",
    "Hint: negative mean squared error (neg_MSE) is a standard scoring technique in ```GridSearchCV``` and ```cross_val_score```. You'll have to inverse the sign and compute the square roots yourself. Of course, during a grid search you can just use neg_MSE, the optimal hyperparameter values will be the same."
   ]
  },
  {
   "cell_type": "markdown",
   "metadata": {},
   "source": [
    "## Assignment 3: Explore your own data \n",
    "* Find a dataset that fascinates you\n",
    "* Put it on OpenML, tag with 'TUe-ml'\n",
    "* Build and share any machine learning model on it\n",
    "\n",
    "This is to let you (and me) come in contact with issues not covered/foreseen in the course, and get feedback."
   ]
  },
  {
   "cell_type": "markdown",
   "metadata": {
    "collapsed": true
   },
   "source": [
    "### Rules\n",
    "* The dataset should not already be on OpenML.\n",
    "* Tabular (e.g. CSV) data, representing a classification or regression problem\n",
    "    * You'll need to convert to the ARFF format (see below)\n",
    "* In 1 file, Multi-variate (multiple columns), at least 100 instances (rows)\n",
    "* No text/image data, unless already featurized\n",
    "* A public (!) dataset found on:\n",
    "    * Your own hard drive. One that is interesting and you don't mind sharing.\n",
    "    * Kaggle open datasets: https://www.kaggle.com/datasets\n",
    "    * Data.world: https://data.world/\n",
    "    * Wolfram Alpha: https://datarepository.wolframcloud.com/\n",
    "    * More: https://git.io/vdTXm\n",
    "* Make sure you _understand_ the data, and provide a clear description for your classmates"
   ]
  },
  {
   "cell_type": "markdown",
   "metadata": {},
   "source": [
    "### Finally\n",
    "* Convert the dataset to ARFF. A script 'csv2arff' is provided, may need some manual post-processing.\n",
    "* Upload via the OpenML website or via the Python API.\n",
    "* Run any machine learning model successfully and publish the run."
   ]
  },
  {
   "cell_type": "raw",
   "metadata": {},
   "source": [
    "python csv2arff.py myfile.csv myfile.arff"
   ]
  },
  {
   "cell_type": "code",
   "execution_count": null,
   "metadata": {
    "collapsed": true
   },
   "outputs": [],
   "source": []
  }
 ],
 "metadata": {
  "anaconda-cloud": {},
  "celltoolbar": "Slideshow",
  "kernelspec": {
   "display_name": "Python [default]",
   "language": "python",
   "name": "python3"
  },
  "language_info": {
   "codemirror_mode": {
    "name": "ipython",
    "version": 3
   },
   "file_extension": ".py",
   "mimetype": "text/x-python",
   "name": "python",
   "nbconvert_exporter": "python",
   "pygments_lexer": "ipython3",
   "version": "3.5.2"
  }
 },
 "nbformat": 4,
 "nbformat_minor": 2
}
